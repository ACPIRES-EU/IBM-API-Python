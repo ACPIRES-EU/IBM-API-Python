{
 "cells": [
  {
   "cell_type": "markdown",
   "metadata": {},
   "source": [
    "#### Colocando as fórmulas que devo usar para finalizar o report final.\n",
    "\n",
    "**doing** 1) usando o script que já esta pronto do site onde busquei o dataset \n",
    "2) pegar o script do curso machine learning sobre o mapa com cores \n",
    "3) pegar o script do machine learning em regressão, cvm\n",
    "4) pegar o script de Toronto sobre k-means para aplicar no dataframe.\n",
    "5) preparar apresentação\n",
    "6) documento em PDF\n",
    "7) transferir para Github\n",
    "8) applicar no coursera os links"
   ]
  },
  {
   "cell_type": "code",
   "execution_count": null,
   "metadata": {},
   "outputs": [],
   "source": []
  }
 ],
 "metadata": {
  "kernelspec": {
   "display_name": "Python",
   "language": "python",
   "name": "conda-env-python-py"
  },
  "language_info": {
   "codemirror_mode": {
    "name": "ipython",
    "version": 3
   },
   "file_extension": ".py",
   "mimetype": "text/x-python",
   "name": "python",
   "nbconvert_exporter": "python",
   "pygments_lexer": "ipython3",
   "version": "3.6.10"
  }
 },
 "nbformat": 4,
 "nbformat_minor": 4
}
